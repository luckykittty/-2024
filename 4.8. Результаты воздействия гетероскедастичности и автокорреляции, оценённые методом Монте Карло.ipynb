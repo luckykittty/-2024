{
 "cells": [
  {
   "cell_type": "code",
   "execution_count": 66,
   "id": "75f4dd56",
   "metadata": {},
   "outputs": [],
   "source": [
    "import numpy as np\n",
    "import pandas as pd\n",
    "import matplotlib.pyplot as plt\n",
    "import scipy.stats as sps\n",
    "import statsmodels.api as sm\n",
    "import statsmodels.stats.api as sms\n",
    "import statsmodels.stats\n",
    "from statsmodels.stats.stattools import durbin_watson\n",
    "import statsmodels.stats.api as sms"
   ]
  },
  {
   "cell_type": "code",
   "execution_count": 67,
   "id": "a47aca43",
   "metadata": {},
   "outputs": [],
   "source": [
    "def Y_imit(X, Yideal, v, n = 20, b = None):\n",
    "    if b == None:\n",
    "        b = [0]*len(X)\n",
    "    #b - сдвиг\n",
    "    Yimit = []\n",
    "    for i in range(n):\n",
    "        Yimit.append(Yideal[i]+v[i]*sps.norm.ppf(np.random.random())+b[i])\n",
    "    return Yimit"
   ]
  },
  {
   "cell_type": "code",
   "execution_count": 68,
   "id": "6dbbfc96",
   "metadata": {},
   "outputs": [],
   "source": [
    "X = np.arange(1,31) #последовательность 1, 2, ..., 30\n",
    "Yideal = []\n",
    "a = 5\n",
    "for i in range(30):\n",
    "    Yideal.append(X[i] + a) #X+a"
   ]
  },
  {
   "cell_type": "code",
   "execution_count": 104,
   "id": "4bb9dffd",
   "metadata": {},
   "outputs": [],
   "source": [
    "a_coef, b_coef, pred_30, r2, F, dw, GQ = [], [], [], [], [], [], []\n",
    "v = [4]*20\n",
    "for i in range(10000):\n",
    "    Yimit = Y_imit(X, Yideal, v)\n",
    "    df = pd.DataFrame({'X': X[:20], \n",
    "              'Yideal':Yideal[:20], \n",
    "              'Yimit': Yimit[:20], \n",
    "              'v': v})\n",
    "    Y = df['Yimit']\n",
    "    X1 = df['X']\n",
    "    X2 = sm.add_constant(X1)\n",
    "    regression = sm.OLS(Y,X2).fit()\n",
    "    y_pred = regression.predict(sm.add_constant(X))\n",
    "    e = Yimit - y_pred[:20]\n",
    "    a_coef.append(regression.params['const'])\n",
    "    b_coef.append(regression.params['X'])\n",
    "    pred_30.append(y_pred[29])\n",
    "    r2.append(regression.rsquared)\n",
    "    F.append(regression.fvalue)\n",
    "    dw.append(durbin_watson(e))\n",
    "    GQ.append(sms.het_goldfeldquandt(e, X2.values)[0])"
   ]
  },
  {
   "cell_type": "code",
   "execution_count": 114,
   "id": "4056cdce",
   "metadata": {},
   "outputs": [
    {
     "data": {
      "text/html": [
       "<div>\n",
       "<style scoped>\n",
       "    .dataframe tbody tr th:only-of-type {\n",
       "        vertical-align: middle;\n",
       "    }\n",
       "\n",
       "    .dataframe tbody tr th {\n",
       "        vertical-align: top;\n",
       "    }\n",
       "\n",
       "    .dataframe thead th {\n",
       "        text-align: right;\n",
       "    }\n",
       "</style>\n",
       "<table border=\"1\" class=\"dataframe\">\n",
       "  <thead>\n",
       "    <tr style=\"text-align: right;\">\n",
       "      <th></th>\n",
       "      <th>b</th>\n",
       "      <th>a</th>\n",
       "      <th>Y(30)^</th>\n",
       "      <th>R2</th>\n",
       "      <th>F</th>\n",
       "      <th>GQ</th>\n",
       "      <th>DW</th>\n",
       "    </tr>\n",
       "  </thead>\n",
       "  <tbody>\n",
       "    <tr>\n",
       "      <th>mean</th>\n",
       "      <td>0.998663</td>\n",
       "      <td>5.025049</td>\n",
       "      <td>34.984953</td>\n",
       "      <td>0.694964</td>\n",
       "      <td>47.563574</td>\n",
       "      <td>1.329575</td>\n",
       "      <td>2.105298</td>\n",
       "    </tr>\n",
       "    <tr>\n",
       "      <th>std</th>\n",
       "      <td>0.153788</td>\n",
       "      <td>1.845471</td>\n",
       "      <td>3.126918</td>\n",
       "      <td>0.095571</td>\n",
       "      <td>23.483679</td>\n",
       "      <td>1.269505</td>\n",
       "      <td>0.419745</td>\n",
       "    </tr>\n",
       "  </tbody>\n",
       "</table>\n",
       "</div>"
      ],
      "text/plain": [
       "             b         a     Y(30)^        R2          F        GQ        DW\n",
       "mean  0.998663  5.025049  34.984953  0.694964  47.563574  1.329575  2.105298\n",
       "std   0.153788  1.845471   3.126918  0.095571  23.483679  1.269505  0.419745"
      ]
     },
     "execution_count": 114,
     "metadata": {},
     "output_type": "execute_result"
    }
   ],
   "source": [
    "#Результат\n",
    "pd.DataFrame({'b': [np.mean(b_coef), np.std(b_coef)], \n",
    "                                       'a': [np.mean(a_coef), np.std(a_coef)], \n",
    "                                       'Y(30)^': [np.mean(pred_30), np.std(pred_30)], \n",
    "                                       'R2': [np.mean(r2), np.std(r2)], \n",
    "                                       'F': [np.mean(F), np.std(F)], \n",
    "                                       'GQ': [np.mean(GQ), np.std(GQ)], \n",
    "                                       'DW': [np.mean(dw), np.std(dw)]}, index = ['mean', 'std'])"
   ]
  },
  {
   "cell_type": "code",
   "execution_count": 109,
   "id": "e37746e2",
   "metadata": {},
   "outputs": [
    {
     "data": {
      "text/plain": [
       "(array([  24.,  280., 1095., 2375., 2978., 2164.,  894.,  176.,   14.]),\n",
       " array([0.65548579, 0.98518334, 1.31488088, 1.64457843, 1.97427598,\n",
       "        2.30397353, 2.63367108, 2.96336863, 3.29306617, 3.62276372]),\n",
       " <BarContainer object of 9 artists>)"
      ]
     },
     "execution_count": 109,
     "metadata": {},
     "output_type": "execute_result"
    },
    {
     "data": {
      "image/png": "[encoded data removed]",
      "text/plain": [
       "<Figure size 640x480 with 1 Axes>"
      ]
     },
     "metadata": {},
     "output_type": "display_data"
    }
   ],
   "source": [
    "plt.hist(dw, bins = np.linspace(np.min(dw), np.max(dw), 10))"
   ]
  },
  {
   "cell_type": "code",
   "execution_count": null,
   "id": "f3a9a404",
   "metadata": {},
   "outputs": [],
   "source": []
  }
 ],
 "metadata": {
  "kernelspec": {
   "display_name": "Python 3 (ipykernel)",
   "language": "python",
   "name": "python3"
  },
  "language_info": {
   "codemirror_mode": {
    "name": "ipython",
    "version": 3
   },
   "file_extension": ".py",
   "mimetype": "text/x-python",
   "name": "python",
   "nbconvert_exporter": "python",
   "pygments_lexer": "ipython3",
   "version": "3.10.9"
  }
 },
 "nbformat": 4,
 "nbformat_minor": 5
}
