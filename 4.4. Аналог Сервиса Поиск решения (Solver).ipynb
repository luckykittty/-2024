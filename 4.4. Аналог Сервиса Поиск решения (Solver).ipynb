{
 "cells": [
  {
   "cell_type": "code",
   "execution_count": 6,
   "id": "63527467",
   "metadata": {},
   "outputs": [],
   "source": [
    "from gekko import GEKKO    \n",
    "import sklearn.metrics\n",
    "from statsmodels.stats.stattools import durbin_watson\n",
    "import sklearn.metrics\n",
    "import pandas as pd\n",
    "import numpy as np"
   ]
  },
  {
   "cell_type": "markdown",
   "id": "5d66fd0d",
   "metadata": {},
   "source": [
    "# Модель 1"
   ]
  },
  {
   "cell_type": "code",
   "execution_count": 7,
   "id": "41e6de41",
   "metadata": {},
   "outputs": [
    {
     "name": "stdout",
     "output_type": "stream",
     "text": [
      " ----------------------------------------------------------------\n",
      " APMonitor, Version 1.0.1\n",
      " APMonitor Optimization Suite\n",
      " ----------------------------------------------------------------\n",
      " \n",
      " \n",
      " --------- APM Model Size ------------\n",
      " Each time step contains\n",
      "   Objects      :            0\n",
      "   Constants    :            0\n",
      "   Variables    :            2\n",
      "   Intermediates:            0\n",
      "   Connections  :            0\n",
      "   Equations    :            1\n",
      "   Residuals    :            1\n",
      " \n",
      " Number of state variables:              2\n",
      " Number of total equations: -            0\n",
      " Number of slack variables: -            0\n",
      " ---------------------------------------\n",
      " Degrees of freedom       :              2\n",
      " \n",
      " ----------------------------------------------\n",
      " Steady State Optimization with APOPT Solver\n",
      " ----------------------------------------------\n",
      " \n",
      " Iter    Objective  Convergence\n",
      "    0  1.58566E+11  0.00000E+00\n",
      "    1  6.84181E+01  0.00000E+00\n",
      "    2  6.77964E+01  0.00000E+00\n",
      "    3  6.18988E+01  0.00000E+00\n",
      "    4  6.01035E+01  0.00000E+00\n",
      "    5  5.94914E+01  0.00000E+00\n",
      "    6  5.94909E+01  0.00000E+00\n",
      "    7  5.94909E+01  0.00000E+00\n",
      "    8  5.94909E+01  0.00000E+00\n",
      "    9  5.94909E+01  0.00000E+00\n",
      " Successful solution\n",
      " \n",
      " ---------------------------------------------------\n",
      " Solver         :  APOPT (v1.0)\n",
      " Solution time  :   1.780000000144355E-002 sec\n",
      " Objective      :    59.4909090909091     \n",
      " Successful solution\n",
      " ---------------------------------------------------\n",
      " \n",
      "\n",
      "[-4.27272731  1.78181818]\n",
      "0.8544483985765124\n"
     ]
    }
   ],
   "source": [
    "#Начальные параметры\n",
    "df= pd.DataFrame({'X': np.arange(0,21), 'Y': [11,  8,  9, 13,  6, 10, 11,  6,  7, 13, 12, 15, 18, 16, 24, 22, 27,28, 25, 32, 28]})\n",
    "t = df['X'][10:].values\n",
    "y = df['Y'][10:].values\n",
    "n = 2 #кол-во переменных\n",
    "m = GEKKO(remote=False) \n",
    "m.options.SOLVER=1\n",
    "#Изменяемые значения\n",
    "ar = m.Array(m.Var, n, value = 0)\n",
    "#Целевая функция = sum(e^2) -> min\n",
    "obj = 0\n",
    "for i in range(len(t)):\n",
    "    obj += (y[i]-(ar[0]+ar[1]*t[i]))**2    \n",
    "m.Minimize(obj) #целевая фунция\n",
    "m.solve() \n",
    "res = np.array([ar[0].value[0], ar[1].value[0]])\n",
    "print(res) #полученные коэффициенты\n",
    "y_pred = res[0]+res[1]*t\n",
    "e = y-y_pred\n",
    "R_2 = sklearn.metrics.r2_score(y, y_pred)\n",
    "print(R_2)\n"
   ]
  },
  {
   "cell_type": "markdown",
   "id": "8db95c95",
   "metadata": {},
   "source": [
    "# Модель 2"
   ]
  },
  {
   "cell_type": "code",
   "execution_count": 8,
   "id": "e1e474b0",
   "metadata": {},
   "outputs": [
    {
     "name": "stdout",
     "output_type": "stream",
     "text": [
      " ----------------------------------------------------------------\n",
      " APMonitor, Version 1.0.1\n",
      " APMonitor Optimization Suite\n",
      " ----------------------------------------------------------------\n",
      " \n",
      " \n",
      " --------- APM Model Size ------------\n",
      " Each time step contains\n",
      "   Objects      :            0\n",
      "   Constants    :            0\n",
      "   Variables    :            3\n",
      "   Intermediates:            0\n",
      "   Connections  :            0\n",
      "   Equations    :            1\n",
      "   Residuals    :            1\n",
      " \n",
      " Number of state variables:              3\n",
      " Number of total equations: -            0\n",
      " Number of slack variables: -            0\n",
      " ---------------------------------------\n",
      " Degrees of freedom       :              3\n",
      " \n",
      " ----------------------------------------------\n",
      " Steady State Optimization with APOPT Solver\n",
      " ----------------------------------------------\n",
      " \n",
      " Iter    Objective  Convergence\n",
      "    0  1.28927E+16  0.00000E+00\n",
      "    1  7.74744E+02  0.00000E+00\n",
      "    2  7.74564E+02  0.00000E+00\n",
      "    3  2.76577E+02  0.00000E+00\n",
      "    4  2.50791E+02  0.00000E+00\n",
      "    5  1.36604E+06  0.00000E+00\n",
      "    6  1.57839E+02  0.00000E+00\n",
      "    7  1.57816E+02  0.00000E+00\n",
      "    8  1.57816E+02  0.00000E+00\n",
      "    9  1.57816E+02  0.00000E+00\n",
      " \n",
      " Iter    Objective  Convergence\n",
      "   10  1.57816E+02  0.00000E+00\n",
      " Successful solution\n",
      " \n",
      " ---------------------------------------------------\n",
      " Solver         :  APOPT (v1.0)\n",
      " Solution time  :   2.200000001175795E-002 sec\n",
      " Objective      :    157.816006419210     \n",
      " Successful solution\n",
      " ---------------------------------------------------\n",
      " \n",
      "\n",
      "[ 9.19424057 -0.32866653  0.07558917]\n",
      "0.8842829561870317\n"
     ]
    }
   ],
   "source": [
    "#Начальные параметры\n",
    "t = df['X'].values\n",
    "y = df['Y'].values\n",
    "n = 3 #кол-во переменных\n",
    "m = GEKKO(remote=False) # create model\n",
    "m.options.SOLVER=1\n",
    "#Изменяемые значения\n",
    "ar = m.Array(m.Var, n, value = 0)\n",
    "#Целевая функция = sum(e^2) -> min\n",
    "obj = 0\n",
    "for i in range(len(t)):\n",
    "    obj += (y[i]-(ar[0]+ar[1]*t[i]+ar[2]*t[i]**2))**2\n",
    "m.Minimize(obj) #целевая фунция\n",
    "m.solve() \n",
    "res = np.array([ar[0].value[0], ar[1].value[0], ar[2].value[0]])\n",
    "print(res) \n",
    "y_pred = res[0]+res[1]*t+res[2]*t**2\n",
    "e = y-y_pred\n",
    "R_2 = sklearn.metrics.r2_score(y, y_pred)\n",
    "print(R_2)\n"
   ]
  },
  {
   "cell_type": "markdown",
   "id": "1e1fea14",
   "metadata": {},
   "source": [
    "## Статистика Дарбина-Уотсона "
   ]
  },
  {
   "cell_type": "code",
   "execution_count": 11,
   "id": "4c74b709",
   "metadata": {},
   "outputs": [
    {
     "data": {
      "text/plain": [
       "2.0736578896039997"
      ]
     },
     "execution_count": 11,
     "metadata": {},
     "output_type": "execute_result"
    }
   ],
   "source": [
    "from statsmodels.stats.stattools import durbin_watson\n",
    "dw = durbin_watson(e)\n",
    "dw"
   ]
  },
  {
   "cell_type": "markdown",
   "id": "2f5f1e3d",
   "metadata": {},
   "source": [
    "## Статистика Голфелда-Квандта"
   ]
  },
  {
   "cell_type": "code",
   "execution_count": 14,
   "id": "32ce90e7",
   "metadata": {},
   "outputs": [
    {
     "data": {
      "text/plain": [
       "(0.7038760496009563, 0.6717057549926849, 'increasing')"
      ]
     },
     "execution_count": 14,
     "metadata": {},
     "output_type": "execute_result"
    }
   ],
   "source": [
    "import statsmodels.stats.api as sms\n",
    "X=np.column_stack((np.ones(len(t)),t))\n",
    "#для модели 2: \n",
    "X=np.column_stack((np.ones(len(t)), t,t**2)) \n",
    "F_gq = sms.het_goldfeldquandt(e, X)\n",
    "#Первое значение - статистика, второе - p-value\n",
    "F_gq"
   ]
  },
  {
   "cell_type": "code",
   "execution_count": 15,
   "id": "4ddd6432",
   "metadata": {},
   "outputs": [
    {
     "data": {
      "text/plain": [
       "array([[  1.,   0.,   0.],\n",
       "       [  1.,   1.,   1.],\n",
       "       [  1.,   2.,   4.],\n",
       "       [  1.,   3.,   9.],\n",
       "       [  1.,   4.,  16.],\n",
       "       [  1.,   5.,  25.],\n",
       "       [  1.,   6.,  36.],\n",
       "       [  1.,   7.,  49.],\n",
       "       [  1.,   8.,  64.],\n",
       "       [  1.,   9.,  81.],\n",
       "       [  1.,  10., 100.],\n",
       "       [  1.,  11., 121.],\n",
       "       [  1.,  12., 144.],\n",
       "       [  1.,  13., 169.],\n",
       "       [  1.,  14., 196.],\n",
       "       [  1.,  15., 225.],\n",
       "       [  1.,  16., 256.],\n",
       "       [  1.,  17., 289.],\n",
       "       [  1.,  18., 324.],\n",
       "       [  1.,  19., 361.],\n",
       "       [  1.,  20., 400.]])"
      ]
     },
     "execution_count": 15,
     "metadata": {},
     "output_type": "execute_result"
    }
   ],
   "source": [
    "X"
   ]
  },
  {
   "cell_type": "code",
   "execution_count": null,
   "id": "c5fc1ccb",
   "metadata": {},
   "outputs": [],
   "source": []
  }
 ],
 "metadata": {
  "kernelspec": {
   "display_name": "Python 3 (ipykernel)",
   "language": "python",
   "name": "python3"
  },
  "language_info": {
   "codemirror_mode": {
    "name": "ipython",
    "version": 3
   },
   "file_extension": ".py",
   "mimetype": "text/x-python",
   "name": "python",
   "nbconvert_exporter": "python",
   "pygments_lexer": "ipython3",
   "version": "3.10.9"
  }
 },
 "nbformat": 4,
 "nbformat_minor": 5
}
